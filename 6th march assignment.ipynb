{
 "cells": [
  {
   "cell_type": "markdown",
   "id": "4321dc1c-c471-4774-bb97-efe9b6162914",
   "metadata": {},
   "source": [
    "Q1. What is Statistics?\n",
    "\n",
    "--->Statistics is the study of the collection, analysis, interpretation, presentation, and organization of data."
   ]
  },
  {
   "cell_type": "markdown",
   "id": "a67d9d2b-dfff-43e3-aadc-758892ed8b9a",
   "metadata": {},
   "source": [
    "  "
   ]
  },
  {
   "cell_type": "markdown",
   "id": "375ac039-ba41-4ab8-b80e-cd80088191aa",
   "metadata": {},
   "source": [
    "Q2. Define the different types of statistics and give an example of when each type might be used.\n",
    "\n",
    "---> There are two main types of statistics: descriptive statistics and inferential statistics.\n",
    "\n",
    "(i) Descriptive Statistics: Descriptive statistics are used to describe or summarize data. They include measures such as measures of central tendency (mean, median, and mode) and measures of variability (range, variance, standard deviation).\n",
    "\n",
    "ex: A research team collects data on the heights of a group of people in a particular region. They calculate the mean height, median height, and standard deviation of the group to describe the distribution of heights.\n",
    "\n",
    "(ii) Inferential Statistics: Inferential statistics are used to make inferences or draw conclusions about a population based on a sample of data. They include methods such as hypothesis testing and confidence intervals.\n",
    "\n",
    "ex: A pharmaceutical company wants to know if a new drug is effective in reducing symptoms of a certain disease. They conduct a randomized controlled trial with a sample of patients and use inferential statistics to determine if the results of the trial can be generalized to the larger population of patients with the disease.\n"
   ]
  },
  {
   "cell_type": "markdown",
   "id": "73c47f19-26d6-41c1-9cde-0b13e3eb3e74",
   "metadata": {},
   "source": [
    "  "
   ]
  },
  {
   "cell_type": "markdown",
   "id": "4e8ee277-5b98-4eea-a557-a7ed5253815b",
   "metadata": {},
   "source": [
    "Q3. What are the different types of data and how do they differ from each other? Provide an example of each type of data.\n",
    "\n",
    "---> there are mainly 2 types of data. (1) Quantitative data, (2) Qualitative data.\n",
    "(1) Quantitaive data\n",
    "\n",
    "---> It has also 2 subtypes. (i) Discrete, (ii) Continuous.\n",
    "(i) Discrete data:\n",
    "ex: No. of bank accounts, no. of children in the family.\n",
    "\n",
    "(ii) Continuous data\n",
    "ex: Weight, Height, Temperature, speed\n",
    "\n",
    "\n",
    "(2) Qualitative data\n",
    "---> It has also 2 subtypes. (i) Nominal, (ii) Ordinal.\n",
    "(i) Nominal data\n",
    "ex: Gender, Blood group, Pincode\n",
    "\n",
    "(ii) Ordinal data\n",
    "ex: customer feedback\n"
   ]
  },
  {
   "cell_type": "markdown",
   "id": "000cb8ce-ac90-42dd-ac53-31085e9dabe6",
   "metadata": {},
   "source": [
    "   "
   ]
  },
  {
   "cell_type": "markdown",
   "id": "024a4a78-0c32-438b-8e7c-c6f025e32c74",
   "metadata": {},
   "source": [
    "Q4. Categorise the following datasets with respect to quantitative and qualitative data types:\n",
    "(i) Grading in exam: A+, A, B+, B, C+, C, D, E\n",
    "(ii) Colour of mangoes: yellow, green, orange, red\n",
    "(iii) Height data of a class: [178.9, 179, 179.5, 176, 177.2, 178.3, 175.8,...]\n",
    "(iv) Number of mangoes exported by a farm: [500, 600, 478, 672, ...]\n",
    "\n",
    "ans:\n",
    "\n",
    "(i) Qualitative\n",
    "\n",
    "(ii) Qualitaitve\n",
    "\n",
    "(iii) Quantitative\n",
    "\n",
    "(iv) Quantitative\n"
   ]
  },
  {
   "cell_type": "markdown",
   "id": "67a2ea4e-7317-43ba-88dd-ab860dc5926a",
   "metadata": {},
   "source": [
    "   "
   ]
  },
  {
   "cell_type": "markdown",
   "id": "438c482c-2d8c-4fad-b85a-62617a7ecab2",
   "metadata": {},
   "source": [
    "Q5. Explain the concept of levels of measurement and give an example of a variable for each level.\n",
    "\n",
    "---> Levels of measurement refer to the different ways in which data can be measured or classified.\n",
    "---> There are four ways nominal, ordinal, interval, and ratio.\n",
    "\n",
    "(i) Nominal : Nominal level data is characterized by categorical data that cannot be ordered or ranked in any way.\n",
    "ex: Blood type, gender, religion\n",
    "\n",
    "(ii) Ordinal : Ordinal level data are also categorical data, but they can be ordered or ranked.\n",
    "ex: Education level\n",
    "\n",
    "(iii) Interval Level: Interval level data are numerical data that have a consistent scale or interval between values.\n",
    "ex: Temperature in Celsius or Fahrenheit\n",
    "\n",
    "(iv) Ratio Level: Ratio level data are numerical data that have a consistent scale or interval between values and a true zero point.\n",
    "ex: Age, weight, height, income\n"
   ]
  },
  {
   "cell_type": "markdown",
   "id": "2c67bfdc-1d65-4814-a6fe-8a4b6f2fc215",
   "metadata": {},
   "source": [
    "  "
   ]
  },
  {
   "cell_type": "markdown",
   "id": "1b446682-45ef-4fef-8363-bd500a80c59f",
   "metadata": {},
   "source": [
    "Q6. Why is it important to understand the level of measurement when analyzing data? Provide an example to illustrate your answer.\n",
    "\n",
    "---> Understanding the level of measurement is important when analyzing data because it determines the types of statistical analyses that can be performed on the data, as well as the appropriate measures of central tendency and variability to use. In addition, the level of measurement affects the types of conclusions that can be drawn from the data.\n",
    "\n",
    "ex: \n",
    "\n",
    "Suppose a researcher conducts a survey of students at a university, asking them to rate their level of satisfaction with various aspects of their experience on a scale from 1 to 10, where 1 is very dissatisfied and 10 is very satisfied. The satisfaction rating is an ordinal variable because it has a natural order and ranking, but the difference between each rating is not necessarily equal.\n",
    "\n",
    "If the researcher wants to summarize the overall satisfaction level of the students, they might report the median or mode of the satisfaction ratings. However, they cannot report the mean, as the mean is not appropriate for ordinal data because it assumes equal intervals between each rating. If the researcher reports the mean, they may draw incorrect conclusions about the level of satisfaction among the students.\n",
    "\n",
    "Moreover, if the researcher wants to compare the satisfaction levels across different groups of students, such as males versus females, they would need to use a non-parametric test, such as the Mann-Whitney U test, rather than a t-test, which assumes that the data are normally distributed and have equal variances. If the researcher mistakenly assumed that the satisfaction rating was an interval variable, they might use a t-test, which would not be appropriate for ordinal data.\n",
    "\n",
    "In summary, understanding the level of measurement is critical for accurately analyzing and interpreting data, and can prevent drawing incorrect conclusions from the data.\n"
   ]
  },
  {
   "cell_type": "markdown",
   "id": "127b1166-7dd0-4b31-90a9-7f0afeadd980",
   "metadata": {},
   "source": [
    "  "
   ]
  },
  {
   "cell_type": "markdown",
   "id": "0b3af723-d891-4477-bbd2-cacc0761f5f2",
   "metadata": {},
   "source": [
    "Q7. How nominal data type is different from ordinal data type.\n",
    "\n",
    "(1) Nominal data :\n",
    "\n",
    "---> Nominal data is catagorized data, but it can't be ordered or ranked.\n",
    "ex: Blood Group, Gender\n",
    "\n",
    "(2) Ordinal data :\n",
    "\n",
    "---> Ordinal data is also catogarized data but it can be ordered or ranked.\n",
    "ex: Education qualification"
   ]
  },
  {
   "cell_type": "markdown",
   "id": "97b45caf-16cb-4d2e-90fb-1f78c9ff845f",
   "metadata": {},
   "source": [
    "  "
   ]
  },
  {
   "cell_type": "markdown",
   "id": "37e810fa-020f-4117-8a4c-3d3fda12dd9d",
   "metadata": {},
   "source": [
    "Q8. Which type of plot can be used to display data in terms of range?\n",
    "\n",
    "---> A box plot or a box-and-whisker plot is a type of plot that can be used to display data in terms of range.\n",
    "\n",
    "---> A box plot displays the range of the data by showing the distribution of the data in quartiles, with the median value marked by a line in the box.\n"
   ]
  },
  {
   "cell_type": "markdown",
   "id": "6e78e810-e4bc-4301-92fd-4ca2ddb1cd8a",
   "metadata": {},
   "source": [
    "     "
   ]
  },
  {
   "cell_type": "markdown",
   "id": "2fd30b51-91c9-4286-ac8c-a4bd68681da8",
   "metadata": {},
   "source": [
    "Q9. Describe the difference between descriptive and inferential statistics. Give an example of each type of statistics and explain how they are used.\n",
    "\n",
    "Descriptive statistics: \n",
    "\n",
    "---> Used to summarize and describe the main features of a dataset\n",
    "\n",
    "---> Organizes, summarizes, and presents data in a meaningful way\n",
    "\n",
    "---> Describes the central tendency, dispersion, and shape of a dataset\n",
    "\n",
    "---> Examples include mean, median, mode, standard deviation, range, and frequency distributions\n",
    "\n",
    "---> Used to describe data, identify patterns, and make decisions based on data\n",
    "\n",
    "\n",
    "Inferential statistics: \n",
    "\n",
    "---> Uses sample data to make inferences or draw conclusions about a larger population\n",
    "\n",
    "---> Used to test hypotheses, estimate parameters, and make predictions\n",
    "\n",
    "---> Uses probability theory to make inferences about a population based on a sample\n",
    "\n",
    "---> Examples include hypothesis testing, confidence intervals, and regression analysis\n",
    "\n",
    "---> Used to make predictions, determine cause-and-effect relationships, and make decisions based on data"
   ]
  },
  {
   "cell_type": "markdown",
   "id": "cd1be409-bea4-4602-be77-abd6065b21fd",
   "metadata": {},
   "source": [
    "  "
   ]
  },
  {
   "cell_type": "markdown",
   "id": "bb4a577d-0e69-44e8-8bd6-a1b275653535",
   "metadata": {},
   "source": [
    "Q10. What are some common measures of central tendency and variability used in statistics? Explain how each measure can be used to describe a dataset.\n",
    "\n",
    "Measures of central tendency:\n",
    "\n",
    "---> Mean: The average of a set of data. It is calculated by adding up all the values and dividing by the number of values. The mean is used to describe the typical value of a dataset.\n",
    "\n",
    "---> Median: The middle value in a set of data. It is used to describe the value that separates the upper and lower halves of a dataset.\n",
    "\n",
    "---> Mode: The most frequently occurring value in a set of data. It is used to describe the value that appears most often in a dataset.\n",
    "Measures of variability:\n",
    "\n",
    "---> Range: The difference between the maximum and minimum values in a dataset. It is used to describe the spread of a dataset.\n",
    "\n",
    "---> Variance: A measure of how spread out a dataset is. It is calculated by taking the average of the squared differences from the mean. The variance is used to describe the variability of a dataset.\n",
    "\n",
    "Standard deviation: A measure of how spread out a dataset is. It is the square root of the variance. The standard deviation is used to describe the variability of a dataset."
   ]
  }
 ],
 "metadata": {
  "kernelspec": {
   "display_name": "Python 3 (ipykernel)",
   "language": "python",
   "name": "python3"
  },
  "language_info": {
   "codemirror_mode": {
    "name": "ipython",
    "version": 3
   },
   "file_extension": ".py",
   "mimetype": "text/x-python",
   "name": "python",
   "nbconvert_exporter": "python",
   "pygments_lexer": "ipython3",
   "version": "3.10.6"
  }
 },
 "nbformat": 4,
 "nbformat_minor": 5
}
